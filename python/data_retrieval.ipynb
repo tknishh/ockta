{
 "cells": [
  {
   "cell_type": "code",
   "execution_count": 7,
   "metadata": {},
   "outputs": [
    {
     "name": "stdout",
     "output_type": "stream",
     "text": [
      "{'login': 'Pranjal360Agarwal', 'id': 98935622, 'node_id': 'U_kgDOBeWjRg', 'avatar_url': 'https://avatars.githubusercontent.com/u/98935622?v=4', 'gravatar_id': '', 'url': 'https://api.github.com/users/Pranjal360Agarwal', 'html_url': 'https://github.com/Pranjal360Agarwal', 'followers_url': 'https://api.github.com/users/Pranjal360Agarwal/followers', 'following_url': 'https://api.github.com/users/Pranjal360Agarwal/following{/other_user}', 'gists_url': 'https://api.github.com/users/Pranjal360Agarwal/gists{/gist_id}', 'starred_url': 'https://api.github.com/users/Pranjal360Agarwal/starred{/owner}{/repo}', 'subscriptions_url': 'https://api.github.com/users/Pranjal360Agarwal/subscriptions', 'organizations_url': 'https://api.github.com/users/Pranjal360Agarwal/orgs', 'repos_url': 'https://api.github.com/users/Pranjal360Agarwal/repos', 'events_url': 'https://api.github.com/users/Pranjal360Agarwal/events{/privacy}', 'received_events_url': 'https://api.github.com/users/Pranjal360Agarwal/received_events', 'type': 'User', 'site_admin': False, 'name': 'Pranjal Agarwal', 'company': 'MastersCode', 'blog': 'https://www.linkedin.com/in/pranjal-agarwal-11b543226', 'location': 'Lucknow', 'email': None, 'hireable': None, 'bio': \"Hi, I'm Pranjal Agarwal. \\r\\n• Competitive Programmer\\r\\n• Software Developer\\r\\n• Open Source Contributor\\r\\n• Project Mentor & Admin\", 'twitter_username': 'Pranjal12393385', 'public_repos': 33, 'public_gists': 0, 'followers': 39, 'following': 196, 'created_at': '2022-02-03T05:01:14Z', 'updated_at': '2023-07-02T12:41:23Z'}\n"
     ]
    }
   ],
   "source": [
    "import requests\n",
    "\n",
    "def fetch_github_user(username, client_id, client_secret):\n",
    "    # API endpoint URL\n",
    "    url = f\"https://api.github.com/users/{username}\"\n",
    "\n",
    "    # Parameters including client ID and client secret\n",
    "    params = {\n",
    "        \"client_id\": client_id,\n",
    "        \"client_secret\": client_secret\n",
    "    }\n",
    "\n",
    "    try:\n",
    "        # Send GET request to GitHub API\n",
    "        response = requests.get(url, params=params)\n",
    "        response.raise_for_status()  # Raise an exception if request fails\n",
    "\n",
    "        # Parse the JSON response\n",
    "        user_data = response.json()\n",
    "\n",
    "        # Return the user information\n",
    "        return user_data\n",
    "\n",
    "    except requests.exceptions.RequestException as err:\n",
    "        print(f\"Error fetching user information: {err}\")\n",
    "        return None\n",
    "\n",
    "\n",
    "# Example usage\n",
    "username = \"Pranjal360Agarwal\"\n",
    "# client_id = \"Iv1.8ebee54986a3187d\"\n",
    "# client_secret = \"6a0da829787e0b4d31f8db830a5ddcb0df4d443c\"\n",
    "client_id = \"YOUR_CLIENT_ID\"\n",
    "client_secret = \"YOUR_CLIENT_SECRET\"\n",
    "\n",
    "user_info = fetch_github_user(username, client_id, client_secret)\n",
    "\n",
    "if user_info:\n",
    "    # Access and utilize user_info as needed\n",
    "    print(user_info)\n",
    "else:\n",
    "    print(\"Failed to fetch user information.\")\n"
   ]
  },
  {
   "cell_type": "code",
   "execution_count": null,
   "metadata": {},
   "outputs": [],
   "source": []
  }
 ],
 "metadata": {
  "kernelspec": {
   "display_name": "Python 3",
   "language": "python",
   "name": "python3"
  },
  "language_info": {
   "codemirror_mode": {
    "name": "ipython",
    "version": 3
   },
   "file_extension": ".py",
   "mimetype": "text/x-python",
   "name": "python",
   "nbconvert_exporter": "python",
   "pygments_lexer": "ipython3",
   "version": "3.9.13"
  },
  "orig_nbformat": 4
 },
 "nbformat": 4,
 "nbformat_minor": 2
}
